{
 "cells": [
  {
   "cell_type": "markdown",
   "metadata": {},
   "source": [
    "This trainConvnetDogsCatsp130 Jupyter Python Notebook is stored in my home dir tensorFlow/mlenv.  The original data from Kaggle is at mlenv/kaggle_original_data/dogs_vs_cats, while the following script moves the image files into training, validation and test directories and keeping dog and cat images separate.  This is in preparation to create the tensors to input to keras fit ML convnet!\n",
    "\n",
    "Usage notes:\n",
    "dogs_vs_cats dir at /home/sbradley/tensorflow/mlenv/chollet_book/dogs_vs_cats cannot exist because of the mkdir..."
   ]
  },
  {
   "cell_type": "code",
   "execution_count": 3,
   "metadata": {},
   "outputs": [],
   "source": [
    "import os, shutil\n",
    "\n",
    "original_dataset_dir = '/home/sbradley/tensorflow/mlenv/kaggle_original_data/dogs_vs_cats/train'\n",
    "base_dir = '/home/sbradley/tensorflow/mlenv/chollet_book/dogs_vs_cats'\n",
    "os.mkdir(base_dir)\n",
    "\n",
    "train_dir = os.path.join(base_dir, 'train')\n",
    "os.mkdir(train_dir)\n",
    "validation_dir = os.path.join(base_dir, 'validation')\n",
    "os.mkdir(validation_dir)\n",
    "test_dir = os.path.join(base_dir, 'test')\n",
    "os.mkdir(test_dir)\n",
    "\n",
    "\n",
    "train_cats_dir = os.path.join(train_dir, 'cats')\n",
    "os.mkdir(train_cats_dir)\n",
    "train_dogs_dir = os.path.join(train_dir, 'dogs')\n",
    "os.mkdir(train_dogs_dir)\n",
    "\n",
    "validation_cats_dir = os.path.join(validation_dir, 'cats')\n",
    "os.mkdir(validation_cats_dir)\n",
    "validation_dogs_dir = os.path.join(validation_dir, 'dogs')\n",
    "os.mkdir(validation_dogs_dir)\n",
    "\n",
    "test_cats_dir = os.path.join(test_dir, 'cats')\n",
    "os.mkdir(test_cats_dir)\n",
    "test_dogs_dir = os.path.join(test_dir, 'dogs')\n",
    "os.mkdir(test_dogs_dir)\n",
    "\n",
    "fnames = ['cat.{}.jpg'.format(i) for i in range(1000)]\n",
    "for fname in fnames:\n",
    "    src = os.path.join(original_dataset_dir, fname)\n",
    "    dst = os.path.join(train_cats_dir, fname)\n",
    "    shutil.copyfile(src,dst)\n",
    "    \n",
    "fnames = ['cat.{}.jpg'.format(i) for i in range(1000, 1500)]\n",
    "for fname in fnames:\n",
    "    src = os.path.join(original_dataset_dir, fname)\n",
    "    dst = os.path.join(validation_cats_dir, fname)\n",
    "    shutil.copyfile(src,dst)\n",
    "    \n",
    "fnames = ['cat.{}.jpg'.format(i) for i in range(1500, 2000)]\n",
    "for fname in fnames:\n",
    "    src = os.path.join(original_dataset_dir, fname)\n",
    "    dst = os.path.join(test_cats_dir, fname)\n",
    "    shutil.copyfile(src,dst)\n",
    "    \n",
    "fnames = ['dog.{}.jpg'.format(i) for i in range(1000)]\n",
    "for fname in fnames:\n",
    "    src = os.path.join(original_dataset_dir, fname)\n",
    "    dst = os.path.join(train_dogs_dir, fname)\n",
    "    shutil.copyfile(src,dst)\n",
    "    \n",
    "fnames = ['dog.{}.jpg'.format(i) for i in range(1000, 1500)]\n",
    "for fname in fnames:\n",
    "    src = os.path.join(original_dataset_dir, fname)\n",
    "    dst = os.path.join(validation_dogs_dir, fname)\n",
    "    shutil.copyfile(src,dst)\n",
    "    \n",
    "fnames = ['dog.{}.jpg'.format(i) for i in range(1500, 2000)]\n",
    "for fname in fnames:\n",
    "    src = os.path.join(original_dataset_dir, fname)\n",
    "    dst = os.path.join(test_dogs_dir, fname)\n",
    "    shutil.copyfile(src,dst)"
   ]
  },
  {
   "cell_type": "code",
   "execution_count": 4,
   "metadata": {},
   "outputs": [
    {
     "name": "stdout",
     "output_type": "stream",
     "text": [
      "total training cat images:  1000\n",
      "total training dog images:  1000\n",
      "total validation cat images:  500\n",
      "total validation dog images:  500\n",
      "total test cat images:  500\n",
      "total test dog images:  500\n"
     ]
    }
   ],
   "source": [
    "print('total training cat images: ', len(os.listdir(train_cats_dir)))\n",
    "print('total training dog images: ', len(os.listdir(train_dogs_dir)))\n",
    "\n",
    "print('total validation cat images: ', len(os.listdir(validation_cats_dir)))\n",
    "print('total validation dog images: ', len(os.listdir(validation_cats_dir)))\n",
    "\n",
    "print('total test cat images: ', len(os.listdir(test_cats_dir)))\n",
    "print('total test dog images: ', len(os.listdir(test_dogs_dir)))\n",
    "\n",
    "\n"
   ]
  },
  {
   "cell_type": "markdown",
   "metadata": {},
   "source": [
    "Below it is evident that the tools for learning the images or fitting the data come from keras.  While for this example, the data is from  keras.\n",
    "\n"
   ]
  },
  {
   "cell_type": "code",
   "execution_count": 5,
   "metadata": {},
   "outputs": [
    {
     "name": "stderr",
     "output_type": "stream",
     "text": [
      "Using TensorFlow backend.\n"
     ]
    },
    {
     "name": "stdout",
     "output_type": "stream",
     "text": [
      "_________________________________________________________________\n",
      "Layer (type)                 Output Shape              Param #   \n",
      "=================================================================\n",
      "conv2d_1 (Conv2D)            (None, 148, 148, 32)      896       \n",
      "_________________________________________________________________\n",
      "max_pooling2d_1 (MaxPooling2 (None, 74, 74, 32)        0         \n",
      "_________________________________________________________________\n",
      "conv2d_2 (Conv2D)            (None, 72, 72, 64)        18496     \n",
      "_________________________________________________________________\n",
      "max_pooling2d_2 (MaxPooling2 (None, 36, 36, 64)        0         \n",
      "_________________________________________________________________\n",
      "conv2d_3 (Conv2D)            (None, 34, 34, 128)       73856     \n",
      "_________________________________________________________________\n",
      "max_pooling2d_3 (MaxPooling2 (None, 17, 17, 128)       0         \n",
      "_________________________________________________________________\n",
      "conv2d_4 (Conv2D)            (None, 15, 15, 128)       147584    \n",
      "_________________________________________________________________\n",
      "max_pooling2d_4 (MaxPooling2 (None, 7, 7, 128)         0         \n",
      "_________________________________________________________________\n",
      "flatten_1 (Flatten)          (None, 6272)              0         \n",
      "_________________________________________________________________\n",
      "dense_1 (Dense)              (None, 512)               3211776   \n",
      "_________________________________________________________________\n",
      "dense_2 (Dense)              (None, 1)                 513       \n",
      "=================================================================\n",
      "Total params: 3,453,121\n",
      "Trainable params: 3,453,121\n",
      "Non-trainable params: 0\n",
      "_________________________________________________________________\n"
     ]
    }
   ],
   "source": [
    "from keras import layers\n",
    "from keras import models\n",
    "model = models.Sequential()\n",
    "\n",
    "#(3,3) below is likely the size of the conv  sliding \"window\":\n",
    "model.add(layers.Conv2D(32, (3,3), activation='relu',\n",
    "         input_shape=(150,150,3)))\n",
    "#find the max value in each 2 x 2 square?:\n",
    "model.add(layers.MaxPooling2D((2,2)))\n",
    "\n",
    "# Do caps indicate that each of the \"add\" parameters \n",
    "# are constructed objects and/or functional objects of type Conv2D etc)\n",
    "model.add(layers.Conv2D(64, (3,3), activation='relu'))\n",
    "model.add(layers.MaxPooling2D((2,2)))\n",
    "\n",
    "model.add(layers.Conv2D(128, (3,3), activation='relu'))\n",
    "model.add(layers.MaxPooling2D((2,2)))\n",
    "\n",
    "model.add(layers.Conv2D(128, (3,3), activation='relu'))\n",
    "model.add(layers.MaxPooling2D((2,2)))\n",
    "\n",
    "model.add(layers.Flatten())\n",
    "model.add(layers.Dense(512,activation='relu'))\n",
    "model.add(layers.Dense(1,activation='sigmoid'))\n",
    "model.summary()"
   ]
  },
  {
   "cell_type": "code",
   "execution_count": 6,
   "metadata": {},
   "outputs": [],
   "source": [
    "from keras import optimizers\n",
    "model.compile(loss='binary_crossentropy',\n",
    "             optimizer=optimizers.RMSprop(lr=1e-4),\n",
    "              metrics=['acc'])\n"
   ]
  },
  {
   "cell_type": "code",
   "execution_count": 7,
   "metadata": {},
   "outputs": [
    {
     "name": "stdout",
     "output_type": "stream",
     "text": [
      "Found 2000 images belonging to 2 classes.\n",
      "Found 1000 images belonging to 2 classes.\n",
      "data batch shape:  (20, 150, 150, 3)\n",
      "labels batch shape:  (20,)\n",
      "labels :  [0. 1. 0. 1. 0. 1. 0. 0. 0. 0. 1. 0. 1. 1. 1. 0. 1. 1. 0. 0.]\n"
     ]
    }
   ],
   "source": [
    "from keras.preprocessing.image import ImageDataGenerator\n",
    "\n",
    "train_datagen = ImageDataGenerator(rescale=1./255)\n",
    "test_datagen = ImageDataGenerator(rescale=1./255)\n",
    "train_generator = train_datagen.flow_from_directory(\n",
    "    train_dir,\n",
    "    target_size=(150,150),  \n",
    "        # what about the RGB dimension?  150x150 x 3, right? Right!  see for loop out below!\n",
    "        # since train_datagen is an ImageDataGenerator, perhaps the RGB dim is implicit. Yess see below!\n",
    "    batch_size=20,\n",
    "    class_mode='binary')\n",
    "\n",
    "validation_generator = test_datagen.flow_from_directory(\n",
    "    validation_dir,\n",
    "    target_size=(150,150),  \n",
    "    batch_size=20,\n",
    "    class_mode='binary')\n",
    "\n",
    "for data_batch, labels_batch in train_generator:\n",
    "    print('data batch shape: ', data_batch.shape)\n",
    "    print('labels batch shape: ', labels_batch.shape)\n",
    "    print('labels : ', labels_batch)\n",
    "    break"
   ]
  },
  {
   "cell_type": "code",
   "execution_count": null,
   "metadata": {},
   "outputs": [],
   "source": []
  },
  {
   "cell_type": "code",
   "execution_count": 8,
   "metadata": {
    "scrolled": false
   },
   "outputs": [
    {
     "name": "stdout",
     "output_type": "stream",
     "text": [
      "Epoch 1/30\n",
      "100/100 [==============================] - 179s 2s/step - loss: 0.6871 - acc: 0.5465 - val_loss: 0.6630 - val_acc: 0.5840\n",
      "Epoch 2/30\n",
      "100/100 [==============================] - 178s 2s/step - loss: 0.6561 - acc: 0.6030 - val_loss: 0.6470 - val_acc: 0.6030\n",
      "Epoch 3/30\n",
      "100/100 [==============================] - 161s 2s/step - loss: 0.6108 - acc: 0.6655 - val_loss: 0.6242 - val_acc: 0.6200\n",
      "Epoch 4/30\n",
      "100/100 [==============================] - 166s 2s/step - loss: 0.5641 - acc: 0.7020 - val_loss: 0.5989 - val_acc: 0.6620\n",
      "Epoch 5/30\n",
      "100/100 [==============================] - 171s 2s/step - loss: 0.5435 - acc: 0.7185 - val_loss: 0.5848 - val_acc: 0.6810\n",
      "Epoch 6/30\n",
      "100/100 [==============================] - 167s 2s/step - loss: 0.5063 - acc: 0.7465 - val_loss: 0.5750 - val_acc: 0.6960\n",
      "Epoch 7/30\n",
      "100/100 [==============================] - 166s 2s/step - loss: 0.4937 - acc: 0.7605 - val_loss: 0.5660 - val_acc: 0.6920\n",
      "Epoch 8/30\n",
      "100/100 [==============================] - 166s 2s/step - loss: 0.4643 - acc: 0.7740 - val_loss: 0.5622 - val_acc: 0.6930\n",
      "Epoch 9/30\n",
      "100/100 [==============================] - 168s 2s/step - loss: 0.4491 - acc: 0.7825 - val_loss: 0.6113 - val_acc: 0.6740\n",
      "Epoch 10/30\n",
      "100/100 [==============================] - 172s 2s/step - loss: 0.4160 - acc: 0.8085 - val_loss: 0.5504 - val_acc: 0.7320\n",
      "Epoch 11/30\n",
      "100/100 [==============================] - 164s 2s/step - loss: 0.4038 - acc: 0.8145 - val_loss: 0.5371 - val_acc: 0.7220\n",
      "Epoch 12/30\n",
      "100/100 [==============================] - 165s 2s/step - loss: 0.3822 - acc: 0.8270 - val_loss: 0.5524 - val_acc: 0.7280\n",
      "Epoch 13/30\n",
      "100/100 [==============================] - 165s 2s/step - loss: 0.3703 - acc: 0.8365 - val_loss: 0.5542 - val_acc: 0.7200\n",
      "Epoch 14/30\n",
      "100/100 [==============================] - 171s 2s/step - loss: 0.3409 - acc: 0.8580 - val_loss: 0.5421 - val_acc: 0.7310\n",
      "Epoch 15/30\n",
      "100/100 [==============================] - 172s 2s/step - loss: 0.3208 - acc: 0.8625 - val_loss: 0.5385 - val_acc: 0.7360\n",
      "Epoch 16/30\n",
      "100/100 [==============================] - 173s 2s/step - loss: 0.2984 - acc: 0.8730 - val_loss: 0.5582 - val_acc: 0.7390\n",
      "Epoch 17/30\n",
      "100/100 [==============================] - 174s 2s/step - loss: 0.2769 - acc: 0.8855 - val_loss: 0.5620 - val_acc: 0.7310\n",
      "Epoch 18/30\n",
      "100/100 [==============================] - 172s 2s/step - loss: 0.2556 - acc: 0.9065 - val_loss: 0.6634 - val_acc: 0.7220\n",
      "Epoch 19/30\n",
      "100/100 [==============================] - 176s 2s/step - loss: 0.2308 - acc: 0.9075 - val_loss: 0.5948 - val_acc: 0.7340\n",
      "Epoch 20/30\n",
      "100/100 [==============================] - 176s 2s/step - loss: 0.2162 - acc: 0.9275 - val_loss: 0.6118 - val_acc: 0.7350\n",
      "Epoch 21/30\n",
      "100/100 [==============================] - 181s 2s/step - loss: 0.1924 - acc: 0.9240 - val_loss: 0.6160 - val_acc: 0.7380\n",
      "Epoch 22/30\n",
      "100/100 [==============================] - 171s 2s/step - loss: 0.1757 - acc: 0.9370 - val_loss: 0.6698 - val_acc: 0.7210\n",
      "Epoch 23/30\n",
      "100/100 [==============================] - 174s 2s/step - loss: 0.1657 - acc: 0.9375 - val_loss: 0.7817 - val_acc: 0.7100\n",
      "Epoch 24/30\n",
      "100/100 [==============================] - 165s 2s/step - loss: 0.1520 - acc: 0.9525 - val_loss: 0.7162 - val_acc: 0.7240\n",
      "Epoch 25/30\n",
      "100/100 [==============================] - 161s 2s/step - loss: 0.1301 - acc: 0.9535 - val_loss: 0.7354 - val_acc: 0.7200\n",
      "Epoch 26/30\n",
      "100/100 [==============================] - 164s 2s/step - loss: 0.1137 - acc: 0.9595 - val_loss: 0.7125 - val_acc: 0.7310\n",
      "Epoch 27/30\n",
      "100/100 [==============================] - 165s 2s/step - loss: 0.0965 - acc: 0.9725 - val_loss: 0.7587 - val_acc: 0.7400\n",
      "Epoch 28/30\n",
      "100/100 [==============================] - 163s 2s/step - loss: 0.0857 - acc: 0.9760 - val_loss: 0.7806 - val_acc: 0.7280\n",
      "Epoch 29/30\n",
      "100/100 [==============================] - 164s 2s/step - loss: 0.0760 - acc: 0.9770 - val_loss: 0.8561 - val_acc: 0.7270\n",
      "Epoch 30/30\n",
      "100/100 [==============================] - 168s 2s/step - loss: 0.0628 - acc: 0.9835 - val_loss: 0.8318 - val_acc: 0.7420\n"
     ]
    }
   ],
   "source": [
    "history = model.fit_generator(\n",
    "    train_generator,\n",
    "    steps_per_epoch=100,\n",
    "    epochs=50,   # 50 \n",
    "    validation_data=validation_generator,\n",
    "    validation_steps=50)"
   ]
  },
  {
   "cell_type": "code",
   "execution_count": 9,
   "metadata": {},
   "outputs": [],
   "source": [
    "model.save('cats_and_dogs_small_3.h5')"
   ]
  },
  {
   "cell_type": "code",
   "execution_count": 11,
   "metadata": {},
   "outputs": [
    {
     "data": {
      "image/png": "[encoded data removed]",
      "text/plain": [
       "<matplotlib.figure.Figure at 0x7f8914366208>"
      ]
     },
     "metadata": {},
     "output_type": "display_data"
    },
    {
     "data": {
      "image/png": "[encoded data removed]",
      "text/plain": [
       "<matplotlib.figure.Figure at 0x7f891439eda0>"
      ]
     },
     "metadata": {},
     "output_type": "display_data"
    }
   ],
   "source": [
    "import matplotlib.pyplot as plt\n",
    "\n",
    "acc = history.history['acc']\n",
    "val_acc = history.history['val_acc']\n",
    "training_loss = history.history['loss']\n",
    "#print(\"training_loss: \", training_loss) \n",
    "validation_loss = history.history['val_loss']\n",
    "#print(\"validation_loss: \", validation_loss) \n",
    "\n",
    "epochs = range(1,len(acc) + 1)\n",
    "\n",
    "plt.plot(epochs, acc, 'bo', label='Training Accuracy')\n",
    "plt.plot(epochs, val_acc, 'b', label='Validation Accuracy')\n",
    "plt.title('Training and validation accuracy')\n",
    "plt.xlabel('Epochs')\n",
    "plt.ylabel('Accuracy')\n",
    "plt.legend()\n",
    "\n",
    "plt.figure()\n",
    "\n",
    "plt.plot(epochs, training_loss, 'bo', label='Training loss')\n",
    "plt.plot(epochs, validation_loss, 'b', label='Validation loss')\n",
    "plt.title('Training and validation loss')\n",
    "plt.xlabel('Epochs')\n",
    "plt.ylabel('Loss')\n",
    "plt.legend()\n",
    "plt.show()\n"
   ]
  },
  {
   "cell_type": "markdown",
   "metadata": {},
   "source": [
    "Now the validation data looks somewhat belivable, but the training looks ridiculously good--I guess it is overfitting to itself and doing better and better at it."
   ]
  }
 ],
 "metadata": {
  "kernelspec": {
   "display_name": "Python 3",
   "language": "python",
   "name": "python3"
  },
  "language_info": {
   "codemirror_mode": {
    "name": "ipython",
    "version": 3
   },
   "file_extension": ".py",
   "mimetype": "text/x-python",
   "name": "python",
   "nbconvert_exporter": "python",
   "pygments_lexer": "ipython3",
   "version": "3.6.5"
  }
 },
 "nbformat": 4,
 "nbformat_minor": 2
}
