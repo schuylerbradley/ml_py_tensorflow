{
 "cells": [
  {
   "cell_type": "code",
   "execution_count": 3,
   "metadata": {},
   "outputs": [
    {
     "name": "stdout",
     "output_type": "stream",
     "text": [
      "25000 input train sequences\n",
      "25000 test sequences\n",
      "x_train original shape:  (25000,)\n",
      "pad sequences (samples x time)\n",
      "x_train shape after pad:  (25000, 1000)\n",
      "x_test shape after pad:  (25000, 1000)\n"
     ]
    }
   ],
   "source": [
    "# Bidirectional RNN movie review\n",
    "\n",
    "from keras.datasets import imdb\n",
    "from keras.preprocessing import sequence\n",
    "#from keras.preprocessing.sequence import pad_sequences\n",
    "import numpy as np\n",
    "\n",
    "max_features = 10000\n",
    "# original:   maxlen=500\n",
    "maxlen=1000\n",
    "\n",
    "(x_train, y_train), (x_test, y_test) = imdb.load_data(\n",
    "    num_words=max_features)\n",
    "\n",
    "print(len(x_train), 'input train sequences')\n",
    "print(len(y_test), 'test sequences')\n",
    "print('x_train original shape: ', x_train.shape)\n",
    "\n",
    "x_train = [x[::-1] for x in x_train]\n",
    "x_test = [x[::-1] for x in x_test]\n",
    "\n",
    "''' what does pad_sequences really do?\n",
    "does it reduce the vector-of-words size to 500(maxlen)??\n",
    "x_train original shape:  (25000,) so it might vary in # of words??\n",
    "Original comes as a compressed list of index values--obviously silly to use sparse singe-1 vectors.\n",
    "I might try using 10K and improve my results!!'''\n",
    "print('pad sequences (samples x time)')\n",
    "x_train = sequence.pad_sequences(x_train, maxlen = maxlen)\n",
    "x_test = sequence.pad_sequences(x_test, maxlen = maxlen)\n",
    "\n",
    "print('x_train shape after pad: ', x_train.shape)\n",
    "print('x_test shape after pad: ', x_test.shape)"
   ]
  },
  {
   "cell_type": "code",
   "execution_count": 8,
   "metadata": {},
   "outputs": [
    {
     "name": "stdout",
     "output_type": "stream",
     "text": [
      "Train on 20000 samples, validate on 5000 samples\n",
      "Epoch 1/3\n",
      "20000/20000 [==============================] - 700s 35ms/step - loss: 0.5166 - acc: 0.7388 - val_loss: 0.3663 - val_acc: 0.8532\n",
      "Epoch 2/3\n",
      "20000/20000 [==============================] - 668s 33ms/step - loss: 0.3209 - acc: 0.8756 - val_loss: 0.4434 - val_acc: 0.8608\n",
      "Epoch 3/3\n",
      "20000/20000 [==============================] - 686s 34ms/step - loss: 0.2562 - acc: 0.9055 - val_loss: 0.5473 - val_acc: 0.7868\n"
     ]
    }
   ],
   "source": [
    "from keras.models import Sequential\n",
    "from keras import layers\n",
    "from keras.layers import Embedding, LSTM, Dense\n",
    "#from keras.optimizers import RMSprop\n",
    "\n",
    "model = Sequential()\n",
    "model.add(layers.Embedding(max_features, 128)) # this may not be the batch_size-128 below\n",
    "# Tt seems that the digraph for bidirectional LSTM is built-in!          \n",
    "model.add(layers.Bidirectional(  \n",
    "    layers.LSTM(32)))\n",
    "# 12-5 try adding another layer and see if I can beat 88% from on Bi layer  looks like 90%\n",
    "model.add(layers.Dense(16, activation='relu'))\n",
    "model.add(layers.Dense(1, activation='sigmoid'))\n",
    "\n",
    "model.compile(optimizer='rmsprop', loss='binary_crossentropy',\n",
    "             metrics=['acc'])\n",
    "history = model.fit(x_train, y_train,\n",
    "                    epochs=3,  # original was 10 with overfitting starting at two.  Try 3 without validation\n",
    "                    batch_size=128,\n",
    "                    validation_split=0.2)  # validation_split allows me to set how many to train on--try 0!\n",
    "                        # yep, default is 0.  validation_split=0.0, "
   ]
  },
  {
   "cell_type": "code",
   "execution_count": 7,
   "metadata": {
    "scrolled": true
   },
   "outputs": [
    {
     "ename": "KeyError",
     "evalue": "'val_acc'",
     "output_type": "error",
     "traceback": [
      "\u001b[0;31m---------------------------------------------------------------------------\u001b[0m",
      "\u001b[0;31mKeyError\u001b[0m                                  Traceback (most recent call last)",
      "\u001b[0;32m<ipython-input-7-2c39a95ff3c9>\u001b[0m in \u001b[0;36m<module>\u001b[0;34m()\u001b[0m\n\u001b[1;32m     47\u001b[0m \u001b[0;34m\u001b[0m\u001b[0m\n\u001b[1;32m     48\u001b[0m \u001b[0macc\u001b[0m \u001b[0;34m=\u001b[0m \u001b[0mhistory\u001b[0m\u001b[0;34m.\u001b[0m\u001b[0mhistory\u001b[0m\u001b[0;34m[\u001b[0m\u001b[0;34m'acc'\u001b[0m\u001b[0;34m]\u001b[0m\u001b[0;34m\u001b[0m\u001b[0;34m\u001b[0m\u001b[0m\n\u001b[0;32m---> 49\u001b[0;31m \u001b[0mvalidation_acc\u001b[0m \u001b[0;34m=\u001b[0m \u001b[0mhistory\u001b[0m\u001b[0;34m.\u001b[0m\u001b[0mhistory\u001b[0m\u001b[0;34m[\u001b[0m\u001b[0;34m'val_acc'\u001b[0m\u001b[0;34m]\u001b[0m\u001b[0;34m\u001b[0m\u001b[0;34m\u001b[0m\u001b[0m\n\u001b[0m\u001b[1;32m     50\u001b[0m \u001b[0mloss\u001b[0m \u001b[0;34m=\u001b[0m \u001b[0mhistory\u001b[0m\u001b[0;34m.\u001b[0m\u001b[0mhistory\u001b[0m\u001b[0;34m[\u001b[0m\u001b[0;34m'loss'\u001b[0m\u001b[0;34m]\u001b[0m\u001b[0;34m\u001b[0m\u001b[0;34m\u001b[0m\u001b[0m\n\u001b[1;32m     51\u001b[0m \u001b[0mvalidation_loss\u001b[0m \u001b[0;34m=\u001b[0m \u001b[0mhistory\u001b[0m\u001b[0;34m.\u001b[0m\u001b[0mhistory\u001b[0m\u001b[0;34m[\u001b[0m\u001b[0;34m'val_loss'\u001b[0m\u001b[0;34m]\u001b[0m\u001b[0;34m\u001b[0m\u001b[0;34m\u001b[0m\u001b[0m\n",
      "\u001b[0;31mKeyError\u001b[0m: 'val_acc'"
     ]
    }
   ],
   "source": [
    "''' First: 20K training  started train at 12:15 about 6 min per epoch--expect 60 min? Done by 2:10\n",
    "so less than 60 min.  \n",
    "  Maybe the Dense 95% was overfitting?  So maybe I matched the result\n",
    "Yes, I think I was overfitting even just before the 2nd epoch on Dense one, so real validation accuracy was < 91%.\n",
    "\n",
    "I seem to have achieved 88% validation when I used 20% validation\n",
    "    accuracy on movie review sentiments.  Chollet got 89% but \n",
    "    his training used another instance of random starting weights.\n",
    "    \n",
    "2.0    Re-ran bidirectional without using  any validation and got 88% again... or maybe 90%--touch better!\n",
    "Epoch 2/3\n",
    "25000/25000  780s 31ms/step - loss: 0.3101 - acc: 0.8822   <-- last non-overfit in original\n",
    "Epoch 3/3\n",
    "25000/25000 772s 31ms/step - loss: 0.2665 - acc: 0.9010\n",
    "Second without validation:  started 25000 x 1000 training set at 9:40 PM. \n",
    "No validation--let's see how high we get on acc. after 2nd epoch!  Goal beat 95.7 from\n",
    "Dense w/o validation!    \n",
    "\n",
    "    \n",
    "3.0    Compare one-way RNN with 88% and\n",
    "    original 2, Dense, 16 channel layers I got 89%?!\n",
    "    \n",
    "    In fact in the original Dense(16) X2 layer training when I re-ran for just 4 epochs I got a whopping\n",
    "    95% Can you still accept this?  \n",
    "    I think so--It looks like I used 5000 more training samples in the \n",
    "    final, Dense-only training.  \n",
    "    \n",
    "    I skipped all validation during training since I validated in the\n",
    "    previous run.  Could try this here with the bidirectional and see how well I can do!\n",
    "    And I used 10K size word vecs in Densely Connected model vs 5 K here!  Also for Dense I used\n",
    "    optimizers.RMSprop(lr=0.001)\n",
    "    vs 'rmsprop' here...\n",
    "    val_binary_accuracy: 0.9577\n",
    "fit complete\n",
    "25000/25000 [==============================] - 1s 42us/step\n",
    "results:  [0.28607536478996276, 0.8856]\n",
    "\n",
    "    When I re-ran with 4 ep\n",
    "    \n",
    "    Try more layers??\n",
    "    4.0 no luck with another bidir 32 layer--exception.\n",
    " 5.  Try adding a Dense layer as in 95% 3 Dense training   \n",
    "    model.add(layers.Dense(16, activation='relu'))\n",
    "    5.1 start around 7:45  est. 45 minutes\n",
    "'''\n",
    "import matplotlib.pyplot as plt\n",
    "\n",
    "acc = history.history['acc']\n",
    "validation_acc = history.history['val_acc']\n",
    "loss = history.history['loss']\n",
    "validation_loss = history.history['val_loss']\n",
    "#print(\"validation_loss: \", validation_loss) \n",
    "\n",
    "epochs = range(1,len(acc) + 1) # list for x axis\n",
    "\n",
    "plt.plot(epochs, acc, 'bo', label='Training Accuracy')\n",
    "plt.plot(epochs, validation_acc, 'b', label='Validation Accuracy')\n",
    "plt.title('Training and validation accuracy')\n",
    "plt.xlabel('Epochs')\n",
    "plt.ylabel('Accuracy')\n",
    "plt.legend()\n",
    "plt.figure()\n",
    "\n",
    "plt.plot(epochs, loss, 'bo', label='Training loss')\n",
    "plt.plot(epochs, validation_loss, 'b', label='Validation Loss')\n",
    "plt.title('Training and Validation Loss')\n",
    "plt.xlabel('Epochs')\n",
    "\n",
    "plt.ylabel('Loss')\n",
    "plt.legend()\n",
    "plt.show()"
   ]
  }
 ],
 "metadata": {
  "kernelspec": {
   "display_name": "Python 3",
   "language": "python",
   "name": "python3"
  },
  "language_info": {
   "codemirror_mode": {
    "name": "ipython",
    "version": 3
   },
   "file_extension": ".py",
   "mimetype": "text/x-python",
   "name": "python",
   "nbconvert_exporter": "python",
   "pygments_lexer": "ipython3",
   "version": "3.6.5"
  }
 },
 "nbformat": 4,
 "nbformat_minor": 2
}
