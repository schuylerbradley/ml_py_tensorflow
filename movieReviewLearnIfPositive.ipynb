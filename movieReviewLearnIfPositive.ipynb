{
 "cells": [
  {
   "cell_type": "markdown",
   "metadata": {},
   "source": [
    "This movieReviewLearnIfPositive Jupyter Python Notebook is stored in my home dir tensorFlow/mlenv"
   ]
  },
  {
   "cell_type": "code",
   "execution_count": 6,
   "metadata": {},
   "outputs": [
    {
     "name": "stderr",
     "output_type": "stream",
     "text": [
      "Using TensorFlow backend.\n"
     ]
    }
   ],
   "source": [
    "from keras.datasets import imdb\n",
    "(train_data, train_labels), (test_data, test_labels) = imdb.load_data(num_words=10000)\n"
   ]
  },
  {
   "cell_type": "code",
   "execution_count": 7,
   "metadata": {},
   "outputs": [
    {
     "name": "stdout",
     "output_type": "stream",
     "text": [
      "train_data: [1, 14, 22, 16, 43, 530, 973, 1622, 1385, 65, 458, 4468, 66, 3941, 4, 173, 36, 256, 5, 25, 100, 43, 838, 112, 50, 670, 2, 9, 35, 480, 284, 5, 150, 4, 172, 112, 167, 2, 336, 385, 39, 4, 172, 4536, 1111, 17, 546, 38, 13, 447]\n",
      "train_data.shape: (25000,)\n",
      "train_labels shape: (25000,)\n",
      "train_labels: [1 0 0 1 0 0 1 0 1 0 1 0 0 0 0 0 1 1 0 1 0 0 1 0 1 1 0 0 1 0 0 1 1 1 0 0 0\n",
      " 1 0 0 1 0 0 0 1 1 1 0 1 0 0 0 0 0 0 0 1 0 1 1 0 0 0 1 1 1 1 1 1 1 1 0 0 1\n",
      " 1 0 1 0 0 1 1 0 0 1 1 0 0 0 1 0 0 0 0 0 0 0 0 1 1 0]\n"
     ]
    }
   ],
   "source": [
    "import matplotlib.pyplot as plt\n",
    "print(\"train_data:\", train_data[0][0:50])\n",
    "print(\"train_data.shape:\",train_data.shape)\n",
    "print(\"train_labels shape:\", train_labels.shape)\n",
    "print(\"train_labels:\", train_labels[0:100])\n",
    "#plt.plot(train_data[0])\n",
    "#plt.scatter(train_data[0])"
   ]
  },
  {
   "cell_type": "markdown",
   "metadata": {},
   "source": [
    "So the final result of analyzing a 25,000 list of integers which corresponds to a single review on this movie is 1 positive review.  Or are there 25,000 reviews? of different lengths"
   ]
  },
  {
   "cell_type": "code",
   "execution_count": 8,
   "metadata": {},
   "outputs": [
    {
     "name": "stdout",
     "output_type": "stream",
     "text": [
      "min value in all sequences: 1\n"
     ]
    },
    {
     "data": {
      "text/plain": [
       "9999"
      ]
     },
     "execution_count": 8,
     "metadata": {},
     "output_type": "execute_result"
    }
   ],
   "source": [
    "m = min([min(sequence) for sequence in train_data])\n",
    "print(\"min value in all sequences:\", m)\n",
    "max([max(sequence) for sequence in train_data])"
   ]
  },
  {
   "cell_type": "markdown",
   "metadata": {},
   "source": [
    "It seems that the min value found is 1.  This might be a reserved index for the start of the sequence?\n",
    "This \"start of sequence\" value is indeed at the start of train_data!"
   ]
  },
  {
   "cell_type": "markdown",
   "metadata": {},
   "source": [
    "Notes on Regular Expression match used in following loop to get all matches--every word in train_data in the following case I guess.  The for loop returns integers which are then mapped by the reverse word index to their corresponding words.\n",
    "'?'  Causes the resulting RE to match 0 or 1 repetitions of the preceding RE. ab? will match either ‘a’ or ‘ab’.\n",
    "*?, +?, ??\n",
    "The '*', '+', and '?' qualifiers are all greedy; they match as much text as possible\n",
    "\n",
    "Sure enough this is a positive review corresponding with the one for train_label for it.\n",
    "\n",
    "list comprehension using for loops works well if you are converting one list to another or one dict, enumeration etc to a list.  Also look for the append type for loops:\n",
    "\n",
    "Any for loop that looks like this:\n",
    "\n",
    "new_things = []\n",
    "for ITEM in old_things:\n",
    "    if condition_based_on(ITEM):\n",
    "        new_things.append(\"something with \" + ITEM)\n",
    "Can be rewritten into a list comprehension like this:\n",
    "\n",
    "new_things = [\"something with \" + ITEM for ITEM in old_things if condition_based_on(ITEM)]"
   ]
  },
  {
   "cell_type": "code",
   "execution_count": 9,
   "metadata": {
    "scrolled": true
   },
   "outputs": [
    {
     "name": "stdout",
     "output_type": "stream",
     "text": [
      "decoded review:  ? i am a great fan of david lynch and have everything that he's made on dvd except for hotel room the 2 hour twin peaks movie so when i found out about this i immediately grabbed it and and what is this it's a bunch of ? drawn black and white cartoons that are loud and foul mouthed and unfunny maybe i don't know what's good but maybe this is just a bunch of crap that was ? on the public under the name of david lynch to make a few bucks too let me make it clear that i didn't care about the foul language part but had to keep ? the sound because my neighbors might have all in all this is a highly disappointing release and may well have just been left in the ? box set as a curiosity i highly recommend you don't spend your money on this 2 out of 10\n"
     ]
    }
   ],
   "source": [
    "word_index = imdb.get_word_index()\n",
    "reverse_word_index = dict(\n",
    "    [(value, key) for (key, value) in word_index.items()])\n",
    "decoded_review = ' '.join([reverse_word_index.get(i-3, '?') for i in train_data[100]])\n",
    "print(\"decoded review: \", decoded_review)"
   ]
  },
  {
   "cell_type": "code",
   "execution_count": 10,
   "metadata": {},
   "outputs": [
    {
     "name": "stdout",
     "output_type": "stream",
     "text": [
      "y_test: [0. 1. 1. ... 0. 0. 0.]\n"
     ]
    }
   ],
   "source": [
    "import numpy as np\n",
    "def vectorize_sequences(sequences, dimension=10000):\n",
    "    results = np.zeros((len(sequences), dimension))\n",
    "    for i, sequence in enumerate(sequences):   # no paren's needed around for parameters\n",
    "        results[i, sequence] = 1.     # add a period to specify as float value.\n",
    "    return results\n",
    "\n",
    "x_train = vectorize_sequences(train_data)  \n",
    "x_test = vectorize_sequences(test_data) # **** In the following, typed \"v\" then push tab to see type complete options--\n",
    "                                        # then type enter key to complete first option, in this case \"vectorize_sequences\"\n",
    "                                        # as with IntelliJ!\n",
    "\n",
    "x_train[0]\n",
    "\n",
    "# keras models and layers one must \"add\" arrays\n",
    "y_train = np.asarray(train_labels).astype('float32')\n",
    "y_test = np.asarray(test_labels).astype('float32')\n",
    "print(\"y_test:\", y_test)"
   ]
  },
  {
   "cell_type": "code",
   "execution_count": 11,
   "metadata": {},
   "outputs": [],
   "source": [
    "from keras import models\n",
    "from keras import layers\n",
    "\n",
    "model = models.Sequential()\n",
    "# shape of ? is 25,000  why is input_shape 10,000?  I guess Chollet is using a partial_x_train set of 10000.  see below\n",
    "# shape is 10,000 data rows in sample vector.  How many weights?  16?\n",
    "model.add(layers.Dense(16, activation='relu', input_shape=(10000,))) # activation strings are entered with single quotes.\n",
    "model.add(layers.Dense(16, activation='relu'))  # the input shape is now known by the model from above.\n",
    "model.add(layers.Dense(1, activation='sigmoid'))\n"
   ]
  },
  {
   "cell_type": "code",
   "execution_count": 12,
   "metadata": {},
   "outputs": [],
   "source": [
    "from keras import optimizers\n",
    "\n",
    "model.compile(optimizer=optimizers.RMSprop(lr=0.001),\n",
    "              loss='binary_crossentropy',\n",
    "              metrics=['binary_accuracy'])"
   ]
  },
  {
   "cell_type": "code",
   "execution_count": 13,
   "metadata": {},
   "outputs": [
    {
     "name": "stdout",
     "output_type": "stream",
     "text": [
      "shape of x_train:  (25000, 10000)\n",
      "shape of x_val:  (10000, 10000)\n",
      "shape of partial_x_train:  (15000, 10000)\n",
      "shape of y_val:  (10000,)\n",
      "shape of partial_y_train:  (15000,)\n"
     ]
    }
   ],
   "source": [
    "print(\"shape of x_train: \",x_train.shape) # 25,000 rows of samples by 10k array of words/sample\n",
    "x_val = x_train[:10000]  # first 10k review samples\n",
    "print(\"shape of x_val: \",x_val.shape)\n",
    "partial_x_train =  x_train[10000:] # from 10K to end at 25K resulting in 15K)\n",
    "print(\"shape of partial_x_train: \",partial_x_train.shape)\n",
    "\n",
    "y_val = y_train[:10000]  # first 10k reviews\n",
    "print(\"shape of y_val: \",y_val.shape)\n",
    "partial_y_train =  y_train[10000:] # from 10K to end at 25K resulting in 15K)\n",
    "print(\"shape of partial_y_train: \",partial_y_train.shape)"
   ]
  },
  {
   "cell_type": "code",
   "execution_count": 15,
   "metadata": {},
   "outputs": [
    {
     "name": "stdout",
     "output_type": "stream",
     "text": [
      "Train on 15000 samples, validate on 10000 samples\n",
      "Epoch 1/20\n",
      "15000/15000 [==============================] - 5s 314us/step - loss: 0.5084 - binary_accuracy: 0.7813 - val_loss: 0.3797 - val_binary_accuracy: 0.8684\n",
      "Epoch 2/20\n",
      "15000/15000 [==============================] - 2s 162us/step - loss: 0.3004 - binary_accuracy: 0.9047 - val_loss: 0.3004 - val_binary_accuracy: 0.8897\n",
      "Epoch 3/20\n",
      "15000/15000 [==============================] - 3s 197us/step - loss: 0.2179 - binary_accuracy: 0.9285 - val_loss: 0.3085 - val_binary_accuracy: 0.8711\n",
      "Epoch 4/20\n",
      "15000/15000 [==============================] - 2s 165us/step - loss: 0.1750 - binary_accuracy: 0.9437 - val_loss: 0.2840 - val_binary_accuracy: 0.8832\n",
      "Epoch 5/20\n",
      "15000/15000 [==============================] - 3s 183us/step - loss: 0.1427 - binary_accuracy: 0.9543 - val_loss: 0.2841 - val_binary_accuracy: 0.8872\n",
      "Epoch 6/20\n",
      "15000/15000 [==============================] - 2s 162us/step - loss: 0.1150 - binary_accuracy: 0.9650 - val_loss: 0.3166 - val_binary_accuracy: 0.8772\n",
      "Epoch 7/20\n",
      "15000/15000 [==============================] - 3s 167us/step - loss: 0.0980 - binary_accuracy: 0.9705 - val_loss: 0.3127 - val_binary_accuracy: 0.8846\n",
      "Epoch 8/20\n",
      "15000/15000 [==============================] - 3s 168us/step - loss: 0.0807 - binary_accuracy: 0.9763 - val_loss: 0.3859 - val_binary_accuracy: 0.8649\n",
      "Epoch 9/20\n",
      "15000/15000 [==============================] - 3s 168us/step - loss: 0.0661 - binary_accuracy: 0.9821 - val_loss: 0.3635 - val_binary_accuracy: 0.8782\n",
      "Epoch 10/20\n",
      "15000/15000 [==============================] - 3s 168us/step - loss: 0.0561 - binary_accuracy: 0.9853 - val_loss: 0.3843 - val_binary_accuracy: 0.8792\n",
      "Epoch 11/20\n",
      "15000/15000 [==============================] - 3s 176us/step - loss: 0.0439 - binary_accuracy: 0.9893 - val_loss: 0.4153 - val_binary_accuracy: 0.8779\n",
      "Epoch 12/20\n",
      "15000/15000 [==============================] - 3s 176us/step - loss: 0.0381 - binary_accuracy: 0.9921 - val_loss: 0.4525 - val_binary_accuracy: 0.8690\n",
      "Epoch 13/20\n",
      "15000/15000 [==============================] - 3s 169us/step - loss: 0.0300 - binary_accuracy: 0.9928 - val_loss: 0.4698 - val_binary_accuracy: 0.8729\n",
      "Epoch 14/20\n",
      "15000/15000 [==============================] - 3s 174us/step - loss: 0.0247 - binary_accuracy: 0.9945 - val_loss: 0.5023 - val_binary_accuracy: 0.8726\n",
      "Epoch 15/20\n",
      "15000/15000 [==============================] - 3s 176us/step - loss: 0.0175 - binary_accuracy: 0.9979 - val_loss: 0.5342 - val_binary_accuracy: 0.8693\n",
      "Epoch 16/20\n",
      "15000/15000 [==============================] - 3s 173us/step - loss: 0.0149 - binary_accuracy: 0.9983 - val_loss: 0.5710 - val_binary_accuracy: 0.8699\n",
      "Epoch 17/20\n",
      "15000/15000 [==============================] - 3s 176us/step - loss: 0.0151 - binary_accuracy: 0.9971 - val_loss: 0.6024 - val_binary_accuracy: 0.8697\n",
      "Epoch 18/20\n",
      "15000/15000 [==============================] - 3s 207us/step - loss: 0.0075 - binary_accuracy: 0.9996 - val_loss: 0.6822 - val_binary_accuracy: 0.8632\n",
      "Epoch 19/20\n",
      "15000/15000 [==============================] - 3s 180us/step - loss: 0.0121 - binary_accuracy: 0.9971 - val_loss: 0.6771 - val_binary_accuracy: 0.8652\n",
      "Epoch 20/20\n",
      "15000/15000 [==============================] - 3s 180us/step - loss: 0.0041 - binary_accuracy: 0.9999 - val_loss: 0.6900 - val_binary_accuracy: 0.8657\n"
     ]
    }
   ],
   "source": [
    "''' It seems to me that all train data is used in each epoch, \n",
    "                               cycling over about 30 batches of train data. '''\n",
    "\n",
    "history = model.fit(partial_x_train,\n",
    "                   partial_y_train,\n",
    "                   epochs=20,   \n",
    "                   batch_size=512,\n",
    "                   validation_data=(x_val,y_val)) # fit will check accuracy on this validation data for each epoch"
   ]
  },
  {
   "cell_type": "markdown",
   "metadata": {},
   "source": [
    "Answered below: It seems like the loss continues to get lower with each epoch--this is not what was described in book--it indicated overfitting would occur?  Why not same?  starting keys can vary since they are random, but has the data changed?\n",
    "Answer: Yes, loss of the TRAINING data continued to improve, but validation accuracy (val_binary_accuracy) plateau'd and the degraded slightly. And TEST/ validation loss improved (decreased for the first few epochs then increased."
   ]
  },
  {
   "cell_type": "code",
   "execution_count": 16,
   "metadata": {},
   "outputs": [
    {
     "data": {
      "text/plain": [
       "dict_keys(['val_loss', 'val_binary_accuracy', 'loss', 'binary_accuracy'])"
      ]
     },
     "execution_count": 16,
     "metadata": {},
     "output_type": "execute_result"
    }
   ],
   "source": [
    "history_dict = history.history\n",
    "history_dict.keys()\n",
    "\n"
   ]
  },
  {
   "cell_type": "markdown",
   "metadata": {},
   "source": [
    "Key to key:  val stands for validation!  Easy to confuse with value, which really means nothing...\n",
    "\n",
    "The above keys don't match the ordering and names of the ones in Listing 3.9.  Really only the binary was added.\n",
    "\n",
    "However, the plots generated from the history match-up well with the book!\n"
   ]
  },
  {
   "cell_type": "code",
   "execution_count": 17,
   "metadata": {},
   "outputs": [
    {
     "data": {
      "image/png": "[encoded data removed]",
      "text/plain": [
       "<matplotlib.figure.Figure at 0x7fef4422f2b0>"
      ]
     },
     "metadata": {},
     "output_type": "display_data"
    }
   ],
   "source": [
    "import matplotlib.pyplot as plt\n",
    "\n",
    "training_loss = history_dict['loss']\n",
    "#print(\"training_loss: \", training_loss) \n",
    "validation_loss = history_dict['val_loss']\n",
    "#print(\"validation_loss: \", validation_loss) \n",
    "\n",
    "epochs = range(1,len(validation_loss) + 1)\n",
    "\n",
    "plt.plot(epochs, training_loss, 'bo', label='Training loss')\n",
    "plt.plot(epochs, validation_loss, 'b', label='Validation loss')\n",
    "plt.title('Training and validation loss')\n",
    "plt.xlabel('Epochs')\n",
    "\n",
    "plt.ylabel('Loss')\n",
    "plt.legend()\n",
    "plt.show()"
   ]
  },
  {
   "cell_type": "code",
   "execution_count": 18,
   "metadata": {},
   "outputs": [
    {
     "data": {
      "image/png": "[encoded data removed]",
      "text/plain": [
       "<matplotlib.figure.Figure at 0x7fef44459ef0>"
      ]
     },
     "metadata": {},
     "output_type": "display_data"
    }
   ],
   "source": [
    "plt.plot(epochs, history_dict['binary_accuracy'], 'bo', label='Training accuracy')\n",
    "plt.plot(epochs, history_dict['val_binary_accuracy'], 'b', label='Validation accuracy')\n",
    "plt.title('Training and validation accuracy')\n",
    "plt.xlabel('Epochs')\n",
    "\n",
    "plt.ylabel('Accuracy')\n",
    "plt.legend()\n",
    "plt.show()\n"
   ]
  },
  {
   "cell_type": "markdown",
   "metadata": {},
   "source": [
    "The early peak in accuracy of the validation accuracy in the above plot shows overfitting.  The gradient-based refinements to the weights after the 4th epoch or so tended to actually degrade the accuracy of the validation set due to weights which only helped with the training sets, but do not generalize well to the other sets!   \n",
    "\n",
    "Next run again with only 4 epochs to optimize the fit without overfitting.  Another difference is that we use all of the training data this time, then test it with the x_test data instead of a portion of the training data."
   ]
  },
  {
   "cell_type": "code",
   "execution_count": 19,
   "metadata": {},
   "outputs": [
    {
     "name": "stdout",
     "output_type": "stream",
     "text": [
      "Train on 25000 samples, validate on 10000 samples\n",
      "Epoch 1/4\n",
      "25000/25000 [==============================] - 4s 160us/step - loss: 0.4749 - binary_accuracy: 0.8217 - val_loss: 0.3028 - val_binary_accuracy: 0.9091\n",
      "Epoch 2/4\n",
      "25000/25000 [==============================] - 4s 164us/step - loss: 0.2666 - binary_accuracy: 0.9096 - val_loss: 0.2006 - val_binary_accuracy: 0.9333\n",
      "Epoch 3/4\n",
      "25000/25000 [==============================] - 4s 156us/step - loss: 0.1987 - binary_accuracy: 0.9292 - val_loss: 0.1621 - val_binary_accuracy: 0.9442\n",
      "Epoch 4/4\n",
      "25000/25000 [==============================] - 4s 164us/step - loss: 0.1679 - binary_accuracy: 0.9402 - val_loss: 0.1466 - val_binary_accuracy: 0.9500\n",
      "fit complete\n",
      "25000/25000 [==============================] - 2s 95us/step\n",
      "results:  [0.3238554546260834, 0.87308]\n"
     ]
    }
   ],
   "source": [
    "model = models.Sequential()\n",
    "model.add(layers.Dense(16, activation='relu', input_shape=(10000,))) # activation strings are entered with single quotes.\n",
    "model.add(layers.Dense(16, activation='relu'))  # the input shape is now known by the model from above.\n",
    "model.add(layers.Dense(1, activation='sigmoid'))\n",
    "\n",
    "model.compile(optimizer=optimizers.RMSprop(lr=0.001),\n",
    "              loss='binary_crossentropy',\n",
    "              metrics=['binary_accuracy'])\n",
    "\n",
    "'''  It looks like I trained on 25,000 samples according to the output from\n",
    "fitting the mode.  This indicates I used ALL of the data to train, such that\n",
    "the validation and test data might have included the same values!!\n",
    "So this would explain how I got validation values fits of 96%!!  \n",
    "\n",
    "\n",
    "Epoch 4/4\n",
    "25000/25000 ... loss: 0.1752 - binary_accuracy: 0.9389 - \n",
    "             val_loss: 0.1391 - val_binary_accuracy: 0.9577\n",
    "fit complete\n",
    "\n",
    "'''\n",
    "history = model.fit(x_train,    # use all of the training data this time.  And test it with the x_text data.\n",
    "                   y_train,\n",
    "                   epochs=4,   \n",
    "                   batch_size=512,\n",
    "                   validation_data=(x_val,y_val)) \n",
    "print(\"fit complete\")\n",
    "results = model.evaluate(x_test, y_test)\n",
    "print(\"results: \", results)"
   ]
  },
  {
   "cell_type": "markdown",
   "metadata": {},
   "source": [
    "It seems that results shows the total validation acc from all epochs.  This is definitely less that the 95% achieved in validation!"
   ]
  },
  {
   "cell_type": "code",
   "execution_count": 20,
   "metadata": {
    "scrolled": true
   },
   "outputs": [
    {
     "name": "stdout",
     "output_type": "stream",
     "text": [
      "predict:  [[0.13560075]\n",
      " [0.9997118 ]\n",
      " [0.27816266]\n",
      " ...\n",
      " [0.07139967]\n",
      " [0.0428379 ]\n",
      " [0.47383907]]\n",
      "x_test.shape:  (25000, 10000)\n"
     ]
    }
   ],
   "source": [
    "predict = model.predict(x_test)\n",
    "print (\"predict: \", predict)\n",
    "print (\"x_test.shape: \", x_test.shape)"
   ]
  },
  {
   "cell_type": "markdown",
   "metadata": {},
   "source": [
    "Since x_test is already encoded as 25000 arrays of 1's and 0's it needs to be converted back to the "
   ]
  },
  {
   "cell_type": "code",
   "execution_count": null,
   "metadata": {
    "scrolled": true
   },
   "outputs": [],
   "source": [
    "review_index = 0\n",
    "decoded_review = ' '.join([reverse_word_index.get(i-3, '?') for i in x_test[review_index][i]])\n",
    "print(\"Decoded review prediction where 0 is negative, 1 is positive: \", predict[0][review_index])\n",
    "print(\"Text of decoded review: \", decoded_review)"
   ]
  },
  {
   "cell_type": "code",
   "execution_count": 21,
   "metadata": {
    "scrolled": true
   },
   "outputs": [
    {
     "data": {
      "image/png": "[encoded data removed]",
      "text/plain": [
       "<matplotlib.figure.Figure at 0x7fef436c8d30>"
      ]
     },
     "metadata": {},
     "output_type": "display_data"
    }
   ],
   "source": [
    "import matplotlib.pyplot as plt\n",
    "\n",
    "history_dict = history.history\n",
    "history_dict.keys()\n",
    "\n",
    "training_loss = history_dict['loss']\n",
    "#print(\"training_loss: \", training_loss) \n",
    "validation_loss = history_dict['val_loss']\n",
    "#print(\"validation_loss: \", validation_loss) \n",
    "\n",
    "epochs = range(1,len(validation_loss) + 1)\n",
    "\n",
    "plt.plot(epochs, training_loss, 'bo', label='Training loss')\n",
    "plt.plot(epochs, validation_loss, 'b', label='Validation loss')\n",
    "plt.title('Training and validation loss')\n",
    "plt.xlabel('Epochs')\n",
    "\n",
    "plt.ylabel('Loss')\n",
    "plt.legend()\n",
    "plt.show()"
   ]
  },
  {
   "cell_type": "code",
   "execution_count": 22,
   "metadata": {},
   "outputs": [
    {
     "data": {
      "image/png": "[encoded data removed]",
      "text/plain": [
       "<matplotlib.figure.Figure at 0x7fef44237b70>"
      ]
     },
     "metadata": {},
     "output_type": "display_data"
    }
   ],
   "source": [
    "plt.plot(epochs, history_dict['binary_accuracy'], 'bo', label='Training accuracy')\n",
    "plt.plot(epochs, history_dict['val_binary_accuracy'], 'b', label='Validation accuracy')\n",
    "plt.title('Training and validation accuracy')\n",
    "plt.xlabel('Epochs')\n",
    "\n",
    "plt.ylabel('Accuracy')\n",
    "plt.legend()\n",
    "plt.show()"
   ]
  },
  {
   "cell_type": "markdown",
   "metadata": {},
   "source": [
    "It looks like I achieved 95% validation accuracy on  in the final epoch!   Why did we overfit in the second epoch in the original run, yet haven't yet over fit here?  Likely due to 25,000 training samples vs 10,000 in the overfit check?"
   ]
  }
 ],
 "metadata": {
  "kernelspec": {
   "display_name": "Python 3",
   "language": "python",
   "name": "python3"
  },
  "language_info": {
   "codemirror_mode": {
    "name": "ipython",
    "version": 3
   },
   "file_extension": ".py",
   "mimetype": "text/x-python",
   "name": "python",
   "nbconvert_exporter": "python",
   "pygments_lexer": "ipython3",
   "version": "3.6.5"
  }
 },
 "nbformat": 4,
 "nbformat_minor": 2
}
