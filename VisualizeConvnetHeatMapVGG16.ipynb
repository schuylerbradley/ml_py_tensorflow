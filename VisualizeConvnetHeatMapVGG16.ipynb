{
 "cells": [
  {
   "cell_type": "code",
   "execution_count": 3,
   "metadata": {},
   "outputs": [
    {
     "name": "stderr",
     "output_type": "stream",
     "text": [
      "Using TensorFlow backend.\n"
     ]
    }
   ],
   "source": [
    "'''\n",
    "    VisualizeConvnetHeatMapVGG16\n",
    "    Only downloads VGG16 the first time!  After that it seems to find it\n",
    "'''\n",
    "\n",
    "from keras.applications import VGG16\n",
    "from keras import backend as K\n",
    "      "
   ]
  },
  {
   "cell_type": "code",
   "execution_count": 4,
   "metadata": {},
   "outputs": [],
   "source": [
    "\n",
    "model = VGG16(weights = 'imagenet')\n",
    "\n",
    "from keras.preprocessing import image\n",
    "from keras.applications.vgg16 import preprocess_input, decode_predictions\n",
    "import numpy as np   "
   ]
  },
  {
   "cell_type": "code",
   "execution_count": 41,
   "metadata": {
    "scrolled": true
   },
   "outputs": [],
   "source": [
    "# found photo on https://unsplash.com/search/photos/elephants\n",
    "# It starts out way too detailed:  58.6 kB (58,569 bytes)\n",
    "#img_path = '/home/sbradley/tensorflow/mlenv/chollet_book/images/photo-elephant-creative-commons.jpeg'\n",
    "img_path = '/home/sbradley/tensorflow/mlenv/chollet_book/images/african-elephant-antoine-pluss.jpg'\n",
    "\n",
    "img = image.load_img(img_path, target_size=(224,224))"
   ]
  },
  {
   "cell_type": "code",
   "execution_count": 42,
   "metadata": {},
   "outputs": [
    {
     "name": "stdout",
     "output_type": "stream",
     "text": [
      "image size:  (224, 224)\n",
      "x =image.img_to_array size:  150528\n",
      "x =preprocess_input size:  150528\n"
     ]
    },
    {
     "data": {
      "text/plain": [
       "' Now 4-D and some values are negative...\\n[[[[  66.061       22.221      -17.68     ]\\n   [  66.061       22.221      -17.68     ]\\n   ...\\n   [ 108.061       79.221       55.32     ]]\\n\\n  [[  55.060997    10.221001   -31.68     ]\\n  ... '"
      ]
     },
     "execution_count": 42,
     "metadata": {},
     "output_type": "execute_result"
    }
   ],
   "source": [
    "\n",
    "print('image size: ', img.size) # image size:  (224, 224) so above really works!!\n",
    "x = image.img_to_array(img) # 224 * 224 = 50176, but this is RBG, so 3 * 50176 = 150528!\n",
    "#print('image values: ', x[[0,0]]) \n",
    "''' image values is a 3-D list of lists of lists height, width, depth = color  \n",
    "[[[106. 139. 170.]\n",
    "  [106. 139. 170.]\n",
    "  [106. 141. 173.]\n",
    "  ...\n",
    "  [177. 196. 213.]\n",
    "  [178. 195. 211.]\n",
    "  [179. 196. 212.]]\n",
    "\n",
    " [[106. 139. 170.]...'''\n",
    "print('x =image.img_to_array size: ', x.size)\n",
    "x = np.expand_dims(x, axis=0)\n",
    "x = preprocess_input(x) # normalize colors\n",
    "print('x =preprocess_input size: ', x.size)\n",
    "#print('preprocess_input image values: ', x[[0,0]]) \n",
    "''' Now 4-D and some values are negative...\n",
    "[[[[  66.061       22.221      -17.68     ]\n",
    "   [  66.061       22.221      -17.68     ]\n",
    "   ...\n",
    "   [ 108.061       79.221       55.32     ]]\n",
    "\n",
    "  [[  55.060997    10.221001   -31.68     ]\n",
    "  ... '''"
   ]
  },
  {
   "cell_type": "code",
   "execution_count": 43,
   "metadata": {},
   "outputs": [
    {
     "name": "stdout",
     "output_type": "stream",
     "text": [
      "Predicted:  [('n02504458', 'African_elephant', 0.9300823), ('n01871265', 'tusker', 0.051791735), ('n02504013', 'Indian_elephant', 0.018125663)]\n"
     ]
    }
   ],
   "source": [
    "preds = model.predict(x)\n",
    "print('Predicted: ', decode_predictions(preds, top=3)[0] )\n"
   ]
  },
  {
   "cell_type": "code",
   "execution_count": 44,
   "metadata": {},
   "outputs": [
    {
     "name": "stdout",
     "output_type": "stream",
     "text": [
      "last_conv_layer.output:  (?, 14, 14, 512)\n",
      "grads values where 512 is the number of channels:  Tensor(\"gradients_1/block5_pool/MaxPool_grad/MaxPoolGrad:0\", shape=(?, 14, 14, 512), dtype=float32)\n",
      "value_index:  <tensorflow.python.framework.ops.Graph object at 0x7fe22579d128>\n"
     ]
    }
   ],
   "source": [
    "african_elephant_ouput = model.output[:, 386]\n",
    "last_conv_layer = model.get_layer('block5_conv3')\n",
    "print('last_conv_layer.output: ', last_conv_layer.output.shape) \n",
    "grads = K.gradients(african_elephant_ouput, last_conv_layer.output)[0]\n",
    "\n",
    "#print('grads size: ', grads.size)\n",
    "print('grads values where 512 is the number of channels: ', grads) \n",
    "# So grads shape matches last_conv_layer.output\n",
    "print('value_index: ', grads.graph)"
   ]
  },
  {
   "cell_type": "code",
   "execution_count": 45,
   "metadata": {},
   "outputs": [],
   "source": [
    "pooled_grads = K.mean(grads, axis=(0,1,2))\n",
    "iterate = K.function([model.input],\n",
    "                    [pooled_grads, last_conv_layer.output[0]])\n",
    "pooled_grads_value, conv_layer_ouput_value = iterate([x])\n",
    "\n",
    "'''\n",
    "for np.mean(..axis=-1) below will refer to the final axis and average all values in this axis.\n",
    "Adding to the excellent answer by Daniel Möller, \n",
    "if your data has a shape (19,19,5,80) then keras.max(a, axis=-1) \n",
    "would return a matrix of shape (19,19,5) where each value of the output matrix \n",
    "would be the maximum of the 80 elements (the maximum of the values specified within the last index\n",
    "'''\n",
    "for i in range(512):\n",
    "    conv_layer_ouput_value[:,:,i] *= pooled_grads_value[i]\n",
    "    heatmap = np.mean(conv_layer_ouput_value, axis = -1)\n",
    "    \n"
   ]
  },
  {
   "cell_type": "code",
   "execution_count": 46,
   "metadata": {
    "scrolled": true
   },
   "outputs": [
    {
     "data": {
      "text/plain": [
       "<matplotlib.image.AxesImage at 0x7fe2142d2be0>"
      ]
     },
     "execution_count": 46,
     "metadata": {},
     "output_type": "execute_result"
    },
    {
     "data": {
      "image/png": "[encoded data removed]",
      "text/plain": [
       "<matplotlib.figure.Figure at 0x7fe21c70d4e0>"
      ]
     },
     "metadata": {},
     "output_type": "display_data"
    }
   ],
   "source": [
    "heatmap =  np.maximum(heatmap,0)\n",
    "heatmap /= np.max(heatmap)\n",
    "\n",
    "import matplotlib.pyplot as pyplt\n",
    "pyplt.matshow(heatmap)"
   ]
  },
  {
   "cell_type": "code",
   "execution_count": 51,
   "metadata": {},
   "outputs": [
    {
     "name": "stdout",
     "output_type": "stream",
     "text": [
      "img.size:  (224, 224)\n"
     ]
    },
    {
     "data": {
      "text/plain": [
       "True"
      ]
     },
     "execution_count": 51,
     "metadata": {},
     "output_type": "execute_result"
    }
   ],
   "source": [
    "''' Use the OpenCV library for image read, write and display!\n",
    "Use the function cv2.imshow() to display an image in a window. The window automatically fits to the image size.\n",
    "In order to import cv2 correctly, I installed as follows in mlenv:\n",
    "pip install opencv-contrib-python\n",
    "However, the following never worked on my Ubuntu machine:  pip install opencv \n",
    "'''\n",
    "import cv2\n",
    "\n",
    "cv2.imread(img_path)\n",
    "print('img.size: ', img.size)\n",
    "heatmap = cv2.resize(heatmap, (img.size[1], img.size[0]))\n",
    "heatmap = np.uint8(255 * heatmap) # scale every color of every pixel by 255\n",
    "heatmap = cv2.applyColorMap(heatmap, cv2.COLORMAP_JET)\n",
    "superimposed_img = heatmap * 0.4 + img\n",
    "#pyplt.matshow(superimposed_img)\n",
    "#plt.imshow(heatmap)\n",
    "\n",
    "superimposed_grad_img_path ='/home/sbradley/tensorflow/mlenv/chollet_book/images/heat-map-loss-grad-african-elephant-img.jpg'\n",
    "cv2.imwrite(superimposed_grad_img_path, superimposed_img)\n"
   ]
  }
 ],
 "metadata": {
  "kernelspec": {
   "display_name": "Python 3",
   "language": "python",
   "name": "python3"
  },
  "language_info": {
   "codemirror_mode": {
    "name": "ipython",
    "version": 3
   },
   "file_extension": ".py",
   "mimetype": "text/x-python",
   "name": "python",
   "nbconvert_exporter": "python",
   "pygments_lexer": "ipython3",
   "version": "3.6.5"
  }
 },
 "nbformat": 4,
 "nbformat_minor": 2
}
