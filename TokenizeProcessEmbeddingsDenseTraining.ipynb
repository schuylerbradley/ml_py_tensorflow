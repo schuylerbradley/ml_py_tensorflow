{
 "cells": [
  {
   "cell_type": "code",
   "execution_count": 92,
   "metadata": {},
   "outputs": [],
   "source": [
    "# new syntax playground\n",
    "\n",
    "#I think arange creates an array\n",
    "#np.arange(3) ** 2 # array range.\n",
    "# result: array([0, 1, 4])\n",
    "\n",
    "# creating a list using list comprehension:\n",
    "#varList = [e**2 for e in range(3,7)]\n",
    "#print (varList) # result: [9, 16, 25, 36]\n",
    "# whereas range, just generates a series of numbers not really an array.\n",
    "#for x in range(0,3): print( x **2) # 0, 1, 4\n",
    "\n",
    "#timeit is awesome!   It takes a while to gather stats and has funny syntax with %, but it is great for performance\n",
    "# checking.  Seems to be part of sys.\n",
    "#%timeit np.arange(3) ** 2"
   ]
  },
  {
   "cell_type": "code",
   "execution_count": 93,
   "metadata": {},
   "outputs": [],
   "source": [
    "import os\n",
    "import numpy as np\n",
    "import sys\n",
    "\n",
    "imdb_dir = '/home/sbradley/tensorflow/mlenv/chollet_book/movieReviews/aclImdb/'\n",
    "train_dir = os.path.join(imdb_dir, 'train')\n",
    "\n",
    "labels = []\n",
    "texts = []\n",
    "\n",
    "# pulls in all 12,500 items in neg and pos dirs for total of 25,000 items!\n",
    "for label_type in ['neg', 'pos']:\n",
    "    dir_names = os.path.join(train_dir, label_type)\n",
    "    for fname in os.listdir(dir_names):\n",
    "        if fname[-4:] =='.txt':  # cool to use slicing on a string!\n",
    "            f = open(os.path.join(dir_names, fname))\n",
    "            texts.append(f.read())\n",
    "            if label_type =='neg':\n",
    "                labels.append(0)\n",
    "            else:\n",
    "                labels.append(1)"
   ]
  },
  {
   "cell_type": "code",
   "execution_count": 94,
   "metadata": {},
   "outputs": [
    {
     "name": "stdout",
     "output_type": "stream",
     "text": [
      "Found 88582 unique tokens.\n",
      "Shape of data tensor:  (25000, 200)\n",
      "Shape of labels tensor:  (25000,)\n"
     ]
    }
   ],
   "source": [
    "# Tokenize the data\n",
    "\n",
    "from keras.preprocessing.text import Tokenizer\n",
    "from keras.preprocessing.sequence import pad_sequences\n",
    "import numpy as np\n",
    "\n",
    "maxlen = 200 # originally 100 in Chollet\n",
    "training_samples = 10000  # originally 200\n",
    "validation_samples = 10000\n",
    "max_words = 10000\n",
    "\n",
    "tokenizer = Tokenizer(num_words = max_words)\n",
    "tokenizer.fit_on_texts(texts)\n",
    "sequences = tokenizer.texts_to_sequences(texts)\n",
    "word_index = tokenizer.word_index\n",
    "print('Found %s unique tokens.' % len(word_index)) # % subs for comma if embedding in text!\n",
    "\n",
    "data = pad_sequences(sequences, maxlen = maxlen)\n",
    "labels = np.asarray(labels)\n",
    "print('Shape of data tensor: ', data.shape)\n",
    "print('Shape of labels tensor: ', labels.shape)\n",
    "'''\n",
    "Found 88582 unique tokens.\n",
    "Shape of data tensor:  (25000, 100)\n",
    "Shape of labels tensor:  (25000,)\n",
    "'''\n",
    "indices = np.arange(data.shape[0])\n",
    "np.random.shuffle(indices)\n",
    "data = data[indices]  # indices is a shuffled numpy array of indices\n",
    "labels = labels[indices]\n",
    "\n",
    "# take only 200 training samples\n",
    "x_train = data[:training_samples]\n",
    "y_train = labels[:training_samples]\n",
    "\n",
    "# take 10,000 training samples\n",
    "x_val = data[training_samples:training_samples + validation_samples]\n",
    "y_val = labels[training_samples:training_samples + validation_samples]\n",
    "    "
   ]
  },
  {
   "cell_type": "code",
   "execution_count": 95,
   "metadata": {},
   "outputs": [
    {
     "name": "stdout",
     "output_type": "stream",
     "text": [
      " Found 400000 word vectors.\n"
     ]
    }
   ],
   "source": [
    "glove_dir = '/home/sbradley/tensorflow/mlenv/glove.6B'\n",
    "\n",
    "embeddings_index = {}\n",
    "f = open(os.path.join(glove_dir, 'glove.6B.100d.txt'))\n",
    "for line in f:\n",
    "    values = line.split()\n",
    "    word = values[0]\n",
    "    coefs = np.asarray(values[1:], dtype='float32')\n",
    "    embeddings_index[word] = coefs\n",
    "f.close\n",
    "\n",
    "print(' Found %s word vectors.' % len(embeddings_index))\n",
    "#Found 400000 word vectors."
   ]
  },
  {
   "cell_type": "code",
   "execution_count": 96,
   "metadata": {},
   "outputs": [
    {
     "name": "stdout",
     "output_type": "stream",
     "text": [
      "actual max_words = 10000, embedding_dim = 100, \n",
      "actual shape =  (10000, 100)\n"
     ]
    },
    {
     "data": {
      "text/plain": [
       "'\\n[[ 0.          0.          0.          0.          0.          0.\\n   ***all zeros for first sequence--placeholde only***        0.\\n   0.          0.          0.          0.        ]\\n [-0.038194   -0.24487001...0.27061999]   # Essentially no zeros in embeddings\\n [-0.071953 ...-0.71894997  0.86894     0.19539   ]]\\n '"
      ]
     },
     "execution_count": 96,
     "metadata": {},
     "output_type": "execute_result"
    }
   ],
   "source": [
    "embedding_dim = 100\n",
    "embedding_matrix = np.zeros((max_words, embedding_dim))\n",
    "for word, i in word_index.items():\n",
    "    if i<max_words:\n",
    "        embedding_vector = embeddings_index.get(word)\n",
    "        if embedding_vector is not None: # talking about conversant syntax!\n",
    "            embedding_matrix[i] = embedding_vector\n",
    "#print('Expect shape of embedding_matrix to be max_words = ', max_words) \n",
    "# Python 3 approach to formatted strings:\n",
    "print('actual max_words = {}, embedding_dim = {}, '.format(max_words, embedding_dim))\n",
    "print('actual shape = ', embedding_matrix.shape)   \n",
    "#print(embedding_matrix[0:3])\n",
    "'''\n",
    "[[ 0.          0.          0.          0.          0.          0.\n",
    "   ***all zeros for first sequence--placeholde only***        0.\n",
    "   0.          0.          0.          0.        ]\n",
    " [-0.038194   -0.24487001...0.27061999]   # Essentially no zeros in embeddings\n",
    " [-0.071953 ...-0.71894997  0.86894     0.19539   ]]\n",
    " '''"
   ]
  },
  {
   "cell_type": "code",
   "execution_count": 97,
   "metadata": {},
   "outputs": [
    {
     "name": "stdout",
     "output_type": "stream",
     "text": [
      "_________________________________________________________________\n",
      "Layer (type)                 Output Shape              Param #   \n",
      "=================================================================\n",
      "embedding_6 (Embedding)      (None, 200, 100)          1000000   \n",
      "_________________________________________________________________\n",
      "flatten_6 (Flatten)          (None, 20000)             0         \n",
      "_________________________________________________________________\n",
      "dense_9 (Dense)              (None, 32)                640032    \n",
      "_________________________________________________________________\n",
      "dense_10 (Dense)             (None, 1)                 33        \n",
      "=================================================================\n",
      "Total params: 1,640,065\n",
      "Trainable params: 1,640,065\n",
      "Non-trainable params: 0\n",
      "_________________________________________________________________\n"
     ]
    }
   ],
   "source": [
    "from keras.models import Sequential\n",
    "from keras.layers import Embedding, Flatten, Dense\n",
    "\n",
    "model = Sequential()\n",
    "model.add(Embedding(max_words,embedding_dim, input_length=maxlen))\n",
    "model.add(Flatten())\n",
    "model.add(Dense(32, activation='relu'))\n",
    "model.add(Dense(1, activation='sigmoid'))\n",
    "model.summary()\n",
    "\n",
    "model.layers[0].set_weights([embedding_matrix])\n",
    "model.layers[0].trainable = False"
   ]
  },
  {
   "cell_type": "code",
   "execution_count": 98,
   "metadata": {},
   "outputs": [
    {
     "name": "stdout",
     "output_type": "stream",
     "text": [
      "Train on 10000 samples, validate on 10000 samples\n",
      "Epoch 1/10\n",
      "10000/10000 [==============================] - 6s 560us/step - loss: 0.8282 - acc: 0.5982 - val_loss: 0.6631 - val_acc: 0.6127\n",
      "Epoch 2/10\n",
      "10000/10000 [==============================] - 6s 565us/step - loss: 0.5276 - acc: 0.7341 - val_loss: 0.5658 - val_acc: 0.7092\n",
      "Epoch 3/10\n",
      "10000/10000 [==============================] - 6s 646us/step - loss: 0.4196 - acc: 0.8062 - val_loss: 0.5860 - val_acc: 0.7091\n",
      "Epoch 4/10\n",
      "10000/10000 [==============================] - 6s 596us/step - loss: 0.3274 - acc: 0.8600 - val_loss: 0.6293 - val_acc: 0.7036\n",
      "Epoch 5/10\n",
      "10000/10000 [==============================] - 6s 621us/step - loss: 0.2613 - acc: 0.8954 - val_loss: 0.6964 - val_acc: 0.6988\n",
      "Epoch 6/10\n",
      "10000/10000 [==============================] - 5s 538us/step - loss: 0.1950 - acc: 0.9242 - val_loss: 0.7591 - val_acc: 0.7013\n",
      "Epoch 7/10\n",
      "10000/10000 [==============================] - 6s 579us/step - loss: 0.1401 - acc: 0.9491 - val_loss: 1.1711 - val_acc: 0.6411\n",
      "Epoch 8/10\n",
      "10000/10000 [==============================] - 5s 520us/step - loss: 0.1049 - acc: 0.9629 - val_loss: 0.9124 - val_acc: 0.7007\n",
      "Epoch 9/10\n",
      "10000/10000 [==============================] - 5s 517us/step - loss: 0.0735 - acc: 0.9770 - val_loss: 1.0089 - val_acc: 0.7021\n",
      "Epoch 10/10\n",
      "10000/10000 [==============================] - 5s 518us/step - loss: 0.0540 - acc: 0.9810 - val_loss: 1.1003 - val_acc: 0.6972\n"
     ]
    }
   ],
   "source": [
    "model.compile(optimizer='rmsprop',\n",
    "             loss='binary_crossentropy',\n",
    "             metrics=['acc'])\n",
    "history = model.fit(x_train, y_train,\n",
    "                   epochs=10,\n",
    "                   batch_size=32,\n",
    "                   validation_data=(x_val, y_val))\n",
    "model.save_weights('pretrained_glove_model.h5')"
   ]
  },
  {
   "cell_type": "code",
   "execution_count": 99,
   "metadata": {},
   "outputs": [
    {
     "data": {
      "image/png": "[encoded data removed]",
      "text/plain": [
       "<matplotlib.figure.Figure at 0x7f6e7f145278>"
      ]
     },
     "metadata": {},
     "output_type": "display_data"
    },
    {
     "data": {
      "image/png": "[encoded data removed]",
      "text/plain": [
       "<matplotlib.figure.Figure at 0x7f6e7f0d2470>"
      ]
     },
     "metadata": {},
     "output_type": "display_data"
    },
    {
     "data": {
      "text/plain": [
       "\" So it looks like val_acc: 0.5699 or 57% with only 200 samples.  \\nThis is not good compared to \\n Train on 200 samples, validate on 10000 samples.\\n \\n In Chollet, tried without pre-trained embeddings and this didn't work \\n as well--low 50% area.\\n \\n With 10,000 samples instead of 200, still super quick--got 67%--much better!\\n \\n \""
      ]
     },
     "execution_count": 99,
     "metadata": {},
     "output_type": "execute_result"
    }
   ],
   "source": [
    "import matplotlib.pyplot as plt\n",
    "\n",
    "acc = history.history['acc']\n",
    "validation_acc = history.history['val_acc']\n",
    "loss = history.history['loss']\n",
    "validation_loss = history.history['val_loss']\n",
    "#print(\"validation_loss: \", validation_loss) \n",
    "\n",
    "epochs = range(1,len(acc) + 1) # list\n",
    "\n",
    "plt.plot(epochs, acc, 'bo', label='Training Accuracy')\n",
    "plt.plot(epochs, validation_acc, 'b', label='Validation Accuracy')\n",
    "plt.title('Training and validation accuracy')\n",
    "plt.xlabel('Epochs')\n",
    "plt.ylabel('Accuracy')\n",
    "plt.legend()\n",
    "plt.figure()\n",
    "\n",
    "plt.plot(epochs, loss, 'bo', label='Training loss')\n",
    "plt.plot(epochs, validation_loss, 'b', label='Validation Loss')\n",
    "plt.title('Training and Validation Loss')\n",
    "plt.xlabel('Epochs')\n",
    "\n",
    "plt.ylabel('Loss')\n",
    "plt.legend()\n",
    "plt.show()\n",
    "\n",
    "''' So it looks like val_acc: 0.5699 or 57% with only 200 samples.  \n",
    "This is not good compared to \n",
    " Train on 200 samples, validate on 10000 samples.\n",
    " \n",
    " In Chollet, tried without pre-trained embeddings and this didn't work \n",
    " as well--low 50% area.\n",
    " \n",
    " With 10,000 samples instead of 200, still super quick--got 67%--much better!\n",
    " \n",
    " upped max_len to 200 from 100, this helped--up now to 72% and only about 2 minutes!\n",
    " '''"
   ]
  },
  {
   "cell_type": "code",
   "execution_count": 100,
   "metadata": {},
   "outputs": [
    {
     "name": "stdout",
     "output_type": "stream",
     "text": [
      "_________________________________________________________________\n",
      "Layer (type)                 Output Shape              Param #   \n",
      "=================================================================\n",
      "embedding_7 (Embedding)      (None, 200, 100)          1000000   \n",
      "_________________________________________________________________\n",
      "flatten_7 (Flatten)          (None, 20000)             0         \n",
      "_________________________________________________________________\n",
      "dense_11 (Dense)             (None, 32)                640032    \n",
      "_________________________________________________________________\n",
      "dense_12 (Dense)             (None, 1)                 33        \n",
      "=================================================================\n",
      "Total params: 1,640,065\n",
      "Trainable params: 1,640,065\n",
      "Non-trainable params: 0\n",
      "_________________________________________________________________\n"
     ]
    }
   ],
   "source": [
    "# Try without the word embeddings\n",
    "from keras.models import Sequential\n",
    "from keras.layers import Embedding, Flatten, Dense\n",
    "\n",
    "model = Sequential()\n",
    "model.add(Embedding(max_words,embedding_dim, input_length=maxlen))\n",
    "model.add(Flatten())\n",
    "model.add(Dense(32, activation='relu'))\n",
    "model.add(Dense(1, activation='sigmoid'))\n",
    "model.summary()\n",
    "\n",
    "# skip these this time:\n",
    "#model.layers[0].set_weights([embedding_matrix])\n",
    "#model.layers[0].trainable = False\n"
   ]
  },
  {
   "cell_type": "code",
   "execution_count": 101,
   "metadata": {
    "scrolled": true
   },
   "outputs": [
    {
     "name": "stdout",
     "output_type": "stream",
     "text": [
      "Train on 10000 samples, validate on 10000 samples\n",
      "Epoch 1/10\n",
      "10000/10000 [==============================] - 12s 1ms/step - loss: 0.4986 - acc: 0.7418 - val_loss: 0.4205 - val_acc: 0.8067\n",
      "Epoch 2/10\n",
      "10000/10000 [==============================] - 11s 1ms/step - loss: 0.1095 - acc: 0.9621 - val_loss: 0.4102 - val_acc: 0.8363\n",
      "Epoch 3/10\n",
      "10000/10000 [==============================] - 10s 1ms/step - loss: 0.0105 - acc: 0.9975 - val_loss: 0.5389 - val_acc: 0.8365\n",
      "Epoch 4/10\n",
      "10000/10000 [==============================] - 10s 1ms/step - loss: 0.0011 - acc: 0.9996 - val_loss: 0.6913 - val_acc: 0.8335\n",
      "Epoch 5/10\n",
      "10000/10000 [==============================] - 12s 1ms/step - loss: 2.0639e-05 - acc: 1.0000 - val_loss: 0.8344 - val_acc: 0.8283\n",
      "Epoch 6/10\n",
      "10000/10000 [==============================] - 11s 1ms/step - loss: 3.9906e-07 - acc: 1.0000 - val_loss: 0.9438 - val_acc: 0.8278\n",
      "Epoch 7/10\n",
      "10000/10000 [==============================] - 12s 1ms/step - loss: 1.1896e-07 - acc: 1.0000 - val_loss: 0.9860 - val_acc: 0.8289\n",
      "Epoch 8/10\n",
      "10000/10000 [==============================] - 11s 1ms/step - loss: 1.1156e-07 - acc: 1.0000 - val_loss: 0.9905 - val_acc: 0.8289\n",
      "Epoch 9/10\n",
      "10000/10000 [==============================] - 11s 1ms/step - loss: 1.1009e-07 - acc: 1.0000 - val_loss: 0.9959 - val_acc: 0.8275\n",
      "Epoch 10/10\n",
      "10000/10000 [==============================] - 11s 1ms/step - loss: 1.1057e-07 - acc: 1.0000 - val_loss: 1.0016 - val_acc: 0.8284\n"
     ]
    }
   ],
   "source": [
    "model.compile(optimizer='rmsprop',\n",
    "             loss='binary_crossentropy',\n",
    "             metrics=['acc'])\n",
    "history = model.fit(x_train, y_train,\n",
    "                   epochs=10,\n",
    "                   batch_size=32,\n",
    "                   validation_data=(x_val, y_val))\n"
   ]
  },
  {
   "cell_type": "code",
   "execution_count": 102,
   "metadata": {},
   "outputs": [
    {
     "data": {
      "image/png": "[encoded data removed]",
      "text/plain": [
       "<matplotlib.figure.Figure at 0x7f6e7ecb4e80>"
      ]
     },
     "metadata": {},
     "output_type": "display_data"
    },
    {
     "data": {
      "image/png": "[encoded data removed]",
      "text/plain": [
       "<matplotlib.figure.Figure at 0x7f6e7ec64198>"
      ]
     },
     "metadata": {},
     "output_type": "display_data"
    },
    {
     "data": {
      "text/plain": [
       "'\\nval_acc: 0.5283 is lower than with pre-trained--still very fast due to\\nthe small training set of 200.\\n\\nWith 10,000 samples instead of 200, still super quick--got 82%. \\nmuch better!  Why is it better than the Glove embedded? I guess\\nusing specialized training is overall better--and this time it was still fast...\\n \\n'"
      ]
     },
     "execution_count": 102,
     "metadata": {},
     "output_type": "execute_result"
    }
   ],
   "source": [
    "\n",
    "acc = history.history['acc']\n",
    "validation_acc = history.history['val_acc']\n",
    "loss = history.history['loss']\n",
    "validation_loss = history.history['val_loss']\n",
    "#print(\"validation_loss: \", validation_loss) \n",
    "\n",
    "epochs = range(1,len(acc) + 1)\n",
    "\n",
    "plt.plot(epochs, acc, 'bo', label='Training Accuracy')\n",
    "plt.plot(epochs, validation_acc, 'b', label='Validation Accuracy')\n",
    "plt.title('Training and validation accuracy')\n",
    "plt.xlabel('Epochs')\n",
    "plt.ylabel('Accuracy')\n",
    "plt.legend()\n",
    "plt.figure()\n",
    "\n",
    "plt.plot(epochs, loss, 'bo', label='Training loss')\n",
    "plt.plot(epochs, validation_loss, 'b', label='Validation Loss')\n",
    "plt.title('Training and Validation Loss')\n",
    "plt.xlabel('Epochs')\n",
    "\n",
    "plt.ylabel('Loss')\n",
    "plt.legend()\n",
    "plt.show()\n",
    "\n",
    "'''\n",
    "val_acc: 0.5283 is lower than with pre-trained--still very fast due to\n",
    "the small training set of 200.\n",
    "\n",
    "With 10,000 samples instead of 200, still super quick--got 82%. \n",
    "much better!  Now it is better than the Glove embedded? I guess\n",
    "using specialized training is overall better.\n",
    "And this time it was still fast...\n",
    " \n",
    " upped max_len of vecs to 200 from 100, this helped even more\n",
    " up now to 82% and only about 2 minutes!\n",
    "'''"
   ]
  }
 ],
 "metadata": {
  "kernelspec": {
   "display_name": "Python 3",
   "language": "python",
   "name": "python3"
  },
  "language_info": {
   "codemirror_mode": {
    "name": "ipython",
    "version": 3
   },
   "file_extension": ".py",
   "mimetype": "text/x-python",
   "name": "python",
   "nbconvert_exporter": "python",
   "pygments_lexer": "ipython3",
   "version": "3.6.5"
  }
 },
 "nbformat": 4,
 "nbformat_minor": 2
}
